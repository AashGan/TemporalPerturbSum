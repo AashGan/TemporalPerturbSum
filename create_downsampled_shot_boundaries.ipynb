{
 "cells": [
  {
   "cell_type": "markdown",
   "metadata": {},
   "source": [
    "# Creation of the shot boundaries for the down sampled videos \n",
    "\n",
    "Since the TVSum and SumMe datasets both provide to us the shot boundaries, we can assign the shot boundaries based on the where the index was picked\n",
    "\n",
    "The processed TVSum and SumMe dataset from \"VIdeo summarization using long-short term memory\"  had downsampled all the videos by skipping every 15th frame, so we assign that frame to its corresponding shot based on which interval it lies in.\n",
    "\n"
   ]
  },
  {
   "cell_type": "markdown",
   "metadata": {},
   "source": [
    "# An Example of this"
   ]
  },
  {
   "cell_type": "code",
   "execution_count": null,
   "metadata": {},
   "outputs": [],
   "source": [
    "import numpy as np\n",
    "import h5py"
   ]
  },
  {
   "cell_type": "code",
   "execution_count": null,
   "metadata": {},
   "outputs": [],
   "source": [
    "def assign_shot(index,shot_boundaries):\n",
    "    ''' This function checks which interval an index lies in and returns that interval\n",
    "    '''\n",
    "    return [index in range(start,end+1) for start,end in shot_boundaries].index(True)\n"
   ]
  },
  {
   "cell_type": "code",
   "execution_count": null,
   "metadata": {},
   "outputs": [],
   "source": [
    "tvsum_dataset = h5py.File('Data/h5datasets/eccv16_dataset_tvsum_google_pool5.h5')"
   ]
  },
  {
   "cell_type": "code",
   "execution_count": null,
   "metadata": {},
   "outputs": [],
   "source": [
    "picks = tvsum_dataset['video_1']['picks'][...] # The index from the original video which was sampled for feature extraction/ ground truht creation\n",
    "shot_bounds = tvsum_dataset['video_1']['change_points'][...] # The shot boundaries of the video as created by KTS"
   ]
  },
  {
   "cell_type": "markdown",
   "metadata": {},
   "source": [
    "Let's try one sample "
   ]
  },
  {
   "cell_type": "code",
   "execution_count": null,
   "metadata": {},
   "outputs": [],
   "source": [
    "print(f'The frame sampled at index: {picks[15]}')\n",
    "print(f'Index assigned to shot: {assign_shot(picks[0],shot_bounds)} which are indices {shot_bounds[assign_shot(picks[0],shot_bounds)]}')"
   ]
  },
  {
   "cell_type": "markdown",
   "metadata": {},
   "source": [
    "We can create all the shot boundaries similarly for all of the videos "
   ]
  },
  {
   "cell_type": "code",
   "execution_count": null,
   "metadata": {},
   "outputs": [],
   "source": [
    "downsampled_shot_boundaries = [assign_shot(pick,shot_bounds) for pick in picks]"
   ]
  },
  {
   "cell_type": "markdown",
   "metadata": {},
   "source": [
    "This is then saved to the dataset for each video"
   ]
  },
  {
   "cell_type": "markdown",
   "metadata": {},
   "source": []
  }
 ],
 "metadata": {
  "language_info": {
   "name": "python"
  }
 },
 "nbformat": 4,
 "nbformat_minor": 2
}
